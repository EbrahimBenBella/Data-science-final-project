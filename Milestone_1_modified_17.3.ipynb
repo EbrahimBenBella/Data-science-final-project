{
 "cells": [
  {
   "cell_type": "code",
   "execution_count": 3787,
   "metadata": {},
   "outputs": [],
   "source": [
    "import pandas as pd\n",
    "import numpy as np\n",
    "import matplotlib.pyplot as plt\n",
    "import seaborn as sns\n",
    "from sklearn.preprocessing import MinMaxScaler"
   ]
  },
  {
   "cell_type": "code",
   "execution_count": 3788,
   "metadata": {},
   "outputs": [
    {
     "data": {
      "text/html": [
       "<div>\n",
       "<style scoped>\n",
       "    .dataframe tbody tr th:only-of-type {\n",
       "        vertical-align: middle;\n",
       "    }\n",
       "\n",
       "    .dataframe tbody tr th {\n",
       "        vertical-align: top;\n",
       "    }\n",
       "\n",
       "    .dataframe thead th {\n",
       "        text-align: right;\n",
       "    }\n",
       "</style>\n",
       "<table border=\"1\" class=\"dataframe\">\n",
       "  <thead>\n",
       "    <tr style=\"text-align: right;\">\n",
       "      <th></th>\n",
       "      <th>id</th>\n",
       "      <th>gender</th>\n",
       "      <th>age</th>\n",
       "      <th>hypertension</th>\n",
       "      <th>heart_disease</th>\n",
       "      <th>ever_married</th>\n",
       "      <th>work_type</th>\n",
       "      <th>Residence_type</th>\n",
       "      <th>avg_glucose_level</th>\n",
       "      <th>bmi</th>\n",
       "      <th>smoking_status</th>\n",
       "      <th>stroke</th>\n",
       "    </tr>\n",
       "  </thead>\n",
       "  <tbody>\n",
       "    <tr>\n",
       "      <th>0</th>\n",
       "      <td>9046</td>\n",
       "      <td>Male</td>\n",
       "      <td>67.0</td>\n",
       "      <td>0</td>\n",
       "      <td>1</td>\n",
       "      <td>Yes</td>\n",
       "      <td>Private</td>\n",
       "      <td>Urban</td>\n",
       "      <td>228.69</td>\n",
       "      <td>36.6</td>\n",
       "      <td>formerly smoked</td>\n",
       "      <td>1</td>\n",
       "    </tr>\n",
       "    <tr>\n",
       "      <th>1</th>\n",
       "      <td>51676</td>\n",
       "      <td>Female</td>\n",
       "      <td>61.0</td>\n",
       "      <td>0</td>\n",
       "      <td>0</td>\n",
       "      <td>Yes</td>\n",
       "      <td>Self-employed</td>\n",
       "      <td>Rural</td>\n",
       "      <td>202.21</td>\n",
       "      <td>NaN</td>\n",
       "      <td>never smoked</td>\n",
       "      <td>1</td>\n",
       "    </tr>\n",
       "    <tr>\n",
       "      <th>2</th>\n",
       "      <td>31112</td>\n",
       "      <td>Male</td>\n",
       "      <td>80.0</td>\n",
       "      <td>0</td>\n",
       "      <td>1</td>\n",
       "      <td>Yes</td>\n",
       "      <td>Private</td>\n",
       "      <td>Rural</td>\n",
       "      <td>105.92</td>\n",
       "      <td>32.5</td>\n",
       "      <td>never smoked</td>\n",
       "      <td>1</td>\n",
       "    </tr>\n",
       "    <tr>\n",
       "      <th>3</th>\n",
       "      <td>60182</td>\n",
       "      <td>Female</td>\n",
       "      <td>49.0</td>\n",
       "      <td>0</td>\n",
       "      <td>0</td>\n",
       "      <td>Yes</td>\n",
       "      <td>Private</td>\n",
       "      <td>Urban</td>\n",
       "      <td>171.23</td>\n",
       "      <td>34.4</td>\n",
       "      <td>smokes</td>\n",
       "      <td>1</td>\n",
       "    </tr>\n",
       "    <tr>\n",
       "      <th>4</th>\n",
       "      <td>1665</td>\n",
       "      <td>Female</td>\n",
       "      <td>79.0</td>\n",
       "      <td>1</td>\n",
       "      <td>0</td>\n",
       "      <td>Yes</td>\n",
       "      <td>Self-employed</td>\n",
       "      <td>Rural</td>\n",
       "      <td>174.12</td>\n",
       "      <td>24.0</td>\n",
       "      <td>never smoked</td>\n",
       "      <td>1</td>\n",
       "    </tr>\n",
       "  </tbody>\n",
       "</table>\n",
       "</div>"
      ],
      "text/plain": [
       "      id  gender   age  hypertension  heart_disease ever_married  \\\n",
       "0   9046    Male  67.0             0              1          Yes   \n",
       "1  51676  Female  61.0             0              0          Yes   \n",
       "2  31112    Male  80.0             0              1          Yes   \n",
       "3  60182  Female  49.0             0              0          Yes   \n",
       "4   1665  Female  79.0             1              0          Yes   \n",
       "\n",
       "       work_type Residence_type  avg_glucose_level   bmi   smoking_status  \\\n",
       "0        Private          Urban             228.69  36.6  formerly smoked   \n",
       "1  Self-employed          Rural             202.21   NaN     never smoked   \n",
       "2        Private          Rural             105.92  32.5     never smoked   \n",
       "3        Private          Urban             171.23  34.4           smokes   \n",
       "4  Self-employed          Rural             174.12  24.0     never smoked   \n",
       "\n",
       "   stroke  \n",
       "0       1  \n",
       "1       1  \n",
       "2       1  \n",
       "3       1  \n",
       "4       1  "
      ]
     },
     "execution_count": 3788,
     "metadata": {},
     "output_type": "execute_result"
    }
   ],
   "source": [
    "health_care = pd.read_csv(\"healthcare_dataset.csv\")\n",
    "health_care_df = pd.DataFrame(health_care)\n",
    "health_care_df.head()\n"
   ]
  },
  {
   "cell_type": "code",
   "execution_count": 3789,
   "metadata": {},
   "outputs": [
    {
     "data": {
      "text/plain": [
       "id                     int64\n",
       "gender                object\n",
       "age                  float64\n",
       "hypertension           int64\n",
       "heart_disease          int64\n",
       "ever_married          object\n",
       "work_type             object\n",
       "Residence_type        object\n",
       "avg_glucose_level    float64\n",
       "bmi                  float64\n",
       "smoking_status        object\n",
       "stroke                 int64\n",
       "dtype: object"
      ]
     },
     "execution_count": 3789,
     "metadata": {},
     "output_type": "execute_result"
    }
   ],
   "source": [
    "health_care_df.dtypes"
   ]
  },
  {
   "cell_type": "code",
   "execution_count": 3790,
   "metadata": {},
   "outputs": [
    {
     "data": {
      "text/html": [
       "<div>\n",
       "<style scoped>\n",
       "    .dataframe tbody tr th:only-of-type {\n",
       "        vertical-align: middle;\n",
       "    }\n",
       "\n",
       "    .dataframe tbody tr th {\n",
       "        vertical-align: top;\n",
       "    }\n",
       "\n",
       "    .dataframe thead th {\n",
       "        text-align: right;\n",
       "    }\n",
       "</style>\n",
       "<table border=\"1\" class=\"dataframe\">\n",
       "  <thead>\n",
       "    <tr style=\"text-align: right;\">\n",
       "      <th></th>\n",
       "      <th>id</th>\n",
       "      <th>age</th>\n",
       "      <th>hypertension</th>\n",
       "      <th>heart_disease</th>\n",
       "      <th>avg_glucose_level</th>\n",
       "      <th>bmi</th>\n",
       "      <th>stroke</th>\n",
       "    </tr>\n",
       "  </thead>\n",
       "  <tbody>\n",
       "    <tr>\n",
       "      <th>count</th>\n",
       "      <td>5110.000000</td>\n",
       "      <td>4854.000000</td>\n",
       "      <td>5110.000000</td>\n",
       "      <td>5110.000000</td>\n",
       "      <td>4854.000000</td>\n",
       "      <td>4665.000000</td>\n",
       "      <td>5110.000000</td>\n",
       "    </tr>\n",
       "    <tr>\n",
       "      <th>mean</th>\n",
       "      <td>36517.829354</td>\n",
       "      <td>43.230128</td>\n",
       "      <td>0.097456</td>\n",
       "      <td>0.054012</td>\n",
       "      <td>106.108706</td>\n",
       "      <td>28.906409</td>\n",
       "      <td>0.048728</td>\n",
       "    </tr>\n",
       "    <tr>\n",
       "      <th>std</th>\n",
       "      <td>21161.721625</td>\n",
       "      <td>22.587873</td>\n",
       "      <td>0.296607</td>\n",
       "      <td>0.226063</td>\n",
       "      <td>45.310290</td>\n",
       "      <td>7.863326</td>\n",
       "      <td>0.215320</td>\n",
       "    </tr>\n",
       "    <tr>\n",
       "      <th>min</th>\n",
       "      <td>67.000000</td>\n",
       "      <td>0.080000</td>\n",
       "      <td>0.000000</td>\n",
       "      <td>0.000000</td>\n",
       "      <td>55.120000</td>\n",
       "      <td>10.300000</td>\n",
       "      <td>0.000000</td>\n",
       "    </tr>\n",
       "    <tr>\n",
       "      <th>25%</th>\n",
       "      <td>17741.250000</td>\n",
       "      <td>25.000000</td>\n",
       "      <td>0.000000</td>\n",
       "      <td>0.000000</td>\n",
       "      <td>77.232500</td>\n",
       "      <td>23.600000</td>\n",
       "      <td>0.000000</td>\n",
       "    </tr>\n",
       "    <tr>\n",
       "      <th>50%</th>\n",
       "      <td>36932.000000</td>\n",
       "      <td>45.000000</td>\n",
       "      <td>0.000000</td>\n",
       "      <td>0.000000</td>\n",
       "      <td>91.820000</td>\n",
       "      <td>28.100000</td>\n",
       "      <td>0.000000</td>\n",
       "    </tr>\n",
       "    <tr>\n",
       "      <th>75%</th>\n",
       "      <td>54682.000000</td>\n",
       "      <td>61.000000</td>\n",
       "      <td>0.000000</td>\n",
       "      <td>0.000000</td>\n",
       "      <td>114.142500</td>\n",
       "      <td>33.100000</td>\n",
       "      <td>0.000000</td>\n",
       "    </tr>\n",
       "    <tr>\n",
       "      <th>max</th>\n",
       "      <td>72940.000000</td>\n",
       "      <td>82.000000</td>\n",
       "      <td>1.000000</td>\n",
       "      <td>1.000000</td>\n",
       "      <td>271.740000</td>\n",
       "      <td>97.600000</td>\n",
       "      <td>1.000000</td>\n",
       "    </tr>\n",
       "  </tbody>\n",
       "</table>\n",
       "</div>"
      ],
      "text/plain": [
       "                 id          age  hypertension  heart_disease  \\\n",
       "count   5110.000000  4854.000000   5110.000000    5110.000000   \n",
       "mean   36517.829354    43.230128      0.097456       0.054012   \n",
       "std    21161.721625    22.587873      0.296607       0.226063   \n",
       "min       67.000000     0.080000      0.000000       0.000000   \n",
       "25%    17741.250000    25.000000      0.000000       0.000000   \n",
       "50%    36932.000000    45.000000      0.000000       0.000000   \n",
       "75%    54682.000000    61.000000      0.000000       0.000000   \n",
       "max    72940.000000    82.000000      1.000000       1.000000   \n",
       "\n",
       "       avg_glucose_level          bmi       stroke  \n",
       "count        4854.000000  4665.000000  5110.000000  \n",
       "mean          106.108706    28.906409     0.048728  \n",
       "std            45.310290     7.863326     0.215320  \n",
       "min            55.120000    10.300000     0.000000  \n",
       "25%            77.232500    23.600000     0.000000  \n",
       "50%            91.820000    28.100000     0.000000  \n",
       "75%           114.142500    33.100000     0.000000  \n",
       "max           271.740000    97.600000     1.000000  "
      ]
     },
     "execution_count": 3790,
     "metadata": {},
     "output_type": "execute_result"
    }
   ],
   "source": [
    "health_care_df.describe()"
   ]
  },
  {
   "cell_type": "code",
   "execution_count": 3791,
   "metadata": {},
   "outputs": [
    {
     "name": "stdout",
     "output_type": "stream",
     "text": [
      "<class 'pandas.core.frame.DataFrame'>\n",
      "RangeIndex: 5110 entries, 0 to 5109\n",
      "Data columns (total 12 columns):\n",
      " #   Column             Non-Null Count  Dtype  \n",
      "---  ------             --------------  -----  \n",
      " 0   id                 5110 non-null   int64  \n",
      " 1   gender             5110 non-null   object \n",
      " 2   age                4854 non-null   float64\n",
      " 3   hypertension       5110 non-null   int64  \n",
      " 4   heart_disease      5110 non-null   int64  \n",
      " 5   ever_married       5110 non-null   object \n",
      " 6   work_type          4957 non-null   object \n",
      " 7   Residence_type     5110 non-null   object \n",
      " 8   avg_glucose_level  4854 non-null   float64\n",
      " 9   bmi                4665 non-null   float64\n",
      " 10  smoking_status     4957 non-null   object \n",
      " 11  stroke             5110 non-null   int64  \n",
      "dtypes: float64(3), int64(4), object(5)\n",
      "memory usage: 479.2+ KB\n"
     ]
    }
   ],
   "source": [
    "health_care_df.info()"
   ]
  },
  {
   "cell_type": "code",
   "execution_count": 3792,
   "metadata": {},
   "outputs": [
    {
     "data": {
      "text/plain": [
       "id                     0\n",
       "gender                 0\n",
       "age                  256\n",
       "hypertension           0\n",
       "heart_disease          0\n",
       "ever_married           0\n",
       "work_type            153\n",
       "Residence_type         0\n",
       "avg_glucose_level    256\n",
       "bmi                  445\n",
       "smoking_status       153\n",
       "stroke                 0\n",
       "dtype: int64"
      ]
     },
     "execution_count": 3792,
     "metadata": {},
     "output_type": "execute_result"
    }
   ],
   "source": [
    "health_care_df.isnull().sum()"
   ]
  },
  {
   "cell_type": "code",
   "execution_count": 3793,
   "metadata": {},
   "outputs": [
    {
     "data": {
      "text/plain": [
       "np.int64(0)"
      ]
     },
     "execution_count": 3793,
     "metadata": {},
     "output_type": "execute_result"
    }
   ],
   "source": [
    "health_care_df.duplicated().sum()"
   ]
  },
  {
   "cell_type": "code",
   "execution_count": 3794,
   "metadata": {},
   "outputs": [
    {
     "data": {
      "image/png": "[encoded data removed]",
      "text/plain": [
       "<Figure size 640x480 with 1 Axes>"
      ]
     },
     "metadata": {},
     "output_type": "display_data"
    }
   ],
   "source": [
    "plt.hist(health_care_df['age'], bins=20, color='skyblue', edgecolor='black')\n",
    "plt.xlabel('Age')\n",
    "plt.ylabel('Frequency')\n",
    "plt.title('Age Distribution')\n",
    "plt.show()"
   ]
  },
  {
   "cell_type": "code",
   "execution_count": 3795,
   "metadata": {},
   "outputs": [],
   "source": [
    "health_care_df['age'] = health_care_df['age'].round()"
   ]
  },
  {
   "cell_type": "code",
   "execution_count": 3796,
   "metadata": {},
   "outputs": [
    {
     "data": {
      "text/plain": [
       "array([67., 61., 80., 49., 79., 81., 74., 69., nan, 78., 54., 50., 64.,\n",
       "       75., 60., 57., 71., 52., 65., 58., 42., 82., 48., 72., 63., 76.,\n",
       "       39., 77., 73., 56., 45., 70., 59., 66., 51., 68., 47., 53., 38.,\n",
       "       55.,  1., 46., 32., 14.,  3.,  8., 37., 40., 35., 20., 44., 25.,\n",
       "       23., 17., 13.,  4., 16., 22., 27., 43., 30., 29., 11., 21., 18.,\n",
       "       33., 24., 34., 36., 41.,  5., 26., 31., 12., 62.,  2.,  7.,  9.,\n",
       "       15., 28., 10.,  0., 19.,  6.])"
      ]
     },
     "execution_count": 3796,
     "metadata": {},
     "output_type": "execute_result"
    }
   ],
   "source": [
    "health_care_df['age'].unique()"
   ]
  },
  {
   "cell_type": "code",
   "execution_count": 3797,
   "metadata": {},
   "outputs": [],
   "source": [
    "health_care_df['age'] = health_care_df['age'].fillna(health_care_df['age'].mean())"
   ]
  },
  {
   "cell_type": "code",
   "execution_count": 3798,
   "metadata": {},
   "outputs": [
    {
     "data": {
      "image/png": "[encoded data removed]",
      "text/plain": [
       "<Figure size 640x480 with 1 Axes>"
      ]
     },
     "metadata": {},
     "output_type": "display_data"
    }
   ],
   "source": [
    "plt.hist(health_care_df['age'], bins=20, color='skyblue', edgecolor='black')\n",
    "plt.xlabel('Age')\n",
    "plt.ylabel('Frequency')\n",
    "plt.title('Age Distribution')\n",
    "plt.show()"
   ]
  },
  {
   "cell_type": "code",
   "execution_count": 3799,
   "metadata": {},
   "outputs": [
    {
     "data": {
      "text/plain": [
       "array(['Private', 'Self-employed', nan, 'Govt_job', 'children',\n",
       "       'Never_worked'], dtype=object)"
      ]
     },
     "execution_count": 3799,
     "metadata": {},
     "output_type": "execute_result"
    }
   ],
   "source": [
    "health_care_df['work_type'].unique()"
   ]
  },
  {
   "cell_type": "code",
   "execution_count": 3800,
   "metadata": {},
   "outputs": [
    {
     "data": {
      "text/plain": [
       "work_type\n",
       "Private          2840\n",
       "Self-employed     793\n",
       "children          662\n",
       "Govt_job          640\n",
       "Never_worked       22\n",
       "Name: count, dtype: int64"
      ]
     },
     "execution_count": 3800,
     "metadata": {},
     "output_type": "execute_result"
    }
   ],
   "source": [
    "health_care_df['work_type'].value_counts()"
   ]
  },
  {
   "cell_type": "code",
   "execution_count": 3801,
   "metadata": {},
   "outputs": [
    {
     "data": {
      "text/plain": [
       "np.int64(153)"
      ]
     },
     "execution_count": 3801,
     "metadata": {},
     "output_type": "execute_result"
    }
   ],
   "source": [
    "health_care_df['work_type'].isnull().sum()"
   ]
  },
  {
   "cell_type": "code",
   "execution_count": 3802,
   "metadata": {},
   "outputs": [],
   "source": [
    "health_care_df['work_type'] = health_care_df['work_type'].fillna(health_care_df['work_type'].mode()[0])"
   ]
  },
  {
   "cell_type": "code",
   "execution_count": 3803,
   "metadata": {},
   "outputs": [
    {
     "data": {
      "text/plain": [
       "np.int64(0)"
      ]
     },
     "execution_count": 3803,
     "metadata": {},
     "output_type": "execute_result"
    }
   ],
   "source": [
    "health_care_df['work_type'].isnull().sum()"
   ]
  },
  {
   "cell_type": "code",
   "execution_count": 3804,
   "metadata": {},
   "outputs": [
    {
     "name": "stderr",
     "output_type": "stream",
     "text": [
      "C:\\Users\\LENOVO\\AppData\\Local\\Temp\\ipykernel_24672\\3301365861.py:4: FutureWarning: \n",
      "\n",
      "Passing `palette` without assigning `hue` is deprecated and will be removed in v0.14.0. Assign the `x` variable to `hue` and set `legend=False` for the same effect.\n",
      "\n",
      "  sns.countplot(x=health_care_df['work_type'], palette='viridis')\n"
     ]
    },
    {
     "data": {
      "image/png": "[encoded data removed]",
      "text/plain": [
       "<Figure size 800x500 with 1 Axes>"
      ]
     },
     "metadata": {},
     "output_type": "display_data"
    }
   ],
   "source": [
    "plt.figure(figsize=(8,5))\n",
    "\n",
    "\n",
    "sns.countplot(x=health_care_df['work_type'], palette='viridis')\n",
    "\n",
    "plt.title(\"Distribution of Work Types\", fontsize=14)\n",
    "plt.xlabel(\"Work Type\", fontsize=12)\n",
    "plt.ylabel(\"Count\", fontsize=12)\n",
    "\n",
    "plt.xticks(rotation=30)\n",
    "\n",
    "plt.show()"
   ]
  },
  {
   "cell_type": "code",
   "execution_count": 3805,
   "metadata": {},
   "outputs": [
    {
     "name": "stdout",
     "output_type": "stream",
     "text": [
      "<class 'pandas.core.frame.DataFrame'>\n",
      "RangeIndex: 5110 entries, 0 to 5109\n",
      "Data columns (total 12 columns):\n",
      " #   Column             Non-Null Count  Dtype  \n",
      "---  ------             --------------  -----  \n",
      " 0   id                 5110 non-null   int64  \n",
      " 1   gender             5110 non-null   object \n",
      " 2   age                5110 non-null   float64\n",
      " 3   hypertension       5110 non-null   int64  \n",
      " 4   heart_disease      5110 non-null   int64  \n",
      " 5   ever_married       5110 non-null   object \n",
      " 6   work_type          5110 non-null   object \n",
      " 7   Residence_type     5110 non-null   object \n",
      " 8   avg_glucose_level  4854 non-null   float64\n",
      " 9   bmi                4665 non-null   float64\n",
      " 10  smoking_status     4957 non-null   object \n",
      " 11  stroke             5110 non-null   int64  \n",
      "dtypes: float64(3), int64(4), object(5)\n",
      "memory usage: 479.2+ KB\n"
     ]
    }
   ],
   "source": [
    "health_care_df.info()\n"
   ]
  },
  {
   "cell_type": "code",
   "execution_count": 3806,
   "metadata": {},
   "outputs": [],
   "source": [
    "health_care_df[\"avg_glucose_level\"] = health_care_df[\"avg_glucose_level\"].fillna(health_care_df[\"avg_glucose_level\"].median())\n"
   ]
  },
  {
   "cell_type": "code",
   "execution_count": 3807,
   "metadata": {},
   "outputs": [
    {
     "data": {
      "text/plain": [
       "count    5110.000000\n",
       "mean      105.392873\n",
       "std        44.270397\n",
       "min        55.120000\n",
       "25%        77.930000\n",
       "50%        91.820000\n",
       "75%       112.325000\n",
       "max       271.740000\n",
       "Name: avg_glucose_level, dtype: float64"
      ]
     },
     "execution_count": 3807,
     "metadata": {},
     "output_type": "execute_result"
    }
   ],
   "source": [
    "health_care_df['avg_glucose_level'].describe()"
   ]
  },
  {
   "cell_type": "code",
   "execution_count": 3808,
   "metadata": {},
   "outputs": [
    {
     "data": {
      "image/png": "[encoded data removed]",
      "text/plain": [
       "<Figure size 1200x500 with 1 Axes>"
      ]
     },
     "metadata": {},
     "output_type": "display_data"
    },
    {
     "data": {
      "text/plain": [
       "<Figure size 600x500 with 0 Axes>"
      ]
     },
     "metadata": {},
     "output_type": "display_data"
    }
   ],
   "source": [
    "\n",
    "plt.figure(figsize=(12,5))\n",
    "# Histogram\n",
    "plt.subplot(1,2,1)\n",
    "sns.histplot(health_care_df['avg_glucose_level'], bins=30, kde=True, color='skyblue')\n",
    "plt.title(\"Histogram of Avg Glucose Level\")\n",
    "plt.xlabel(\"Avg Glucose Level\")\n",
    "plt.ylabel(\"Frequency\")\n",
    "plt.figure(figsize=(6,5))\n",
    "plt.tight_layout()\n",
    "plt.show()\n"
   ]
  },
  {
   "cell_type": "code",
   "execution_count": 3809,
   "metadata": {},
   "outputs": [
    {
     "name": "stdout",
     "output_type": "stream",
     "text": [
      "<class 'pandas.core.frame.DataFrame'>\n",
      "RangeIndex: 5110 entries, 0 to 5109\n",
      "Data columns (total 12 columns):\n",
      " #   Column             Non-Null Count  Dtype  \n",
      "---  ------             --------------  -----  \n",
      " 0   id                 5110 non-null   int64  \n",
      " 1   gender             5110 non-null   object \n",
      " 2   age                5110 non-null   float64\n",
      " 3   hypertension       5110 non-null   int64  \n",
      " 4   heart_disease      5110 non-null   int64  \n",
      " 5   ever_married       5110 non-null   object \n",
      " 6   work_type          5110 non-null   object \n",
      " 7   Residence_type     5110 non-null   object \n",
      " 8   avg_glucose_level  5110 non-null   float64\n",
      " 9   bmi                4665 non-null   float64\n",
      " 10  smoking_status     4957 non-null   object \n",
      " 11  stroke             5110 non-null   int64  \n",
      "dtypes: float64(3), int64(4), object(5)\n",
      "memory usage: 479.2+ KB\n"
     ]
    }
   ],
   "source": [
    "health_care_df.info()"
   ]
  },
  {
   "cell_type": "code",
   "execution_count": 3810,
   "metadata": {},
   "outputs": [],
   "source": [
    "health_care_df['bmi'] = health_care_df['bmi'].fillna(health_care_df['bmi'].median())"
   ]
  },
  {
   "cell_type": "code",
   "execution_count": 3811,
   "metadata": {},
   "outputs": [
    {
     "name": "stdout",
     "output_type": "stream",
     "text": [
      "11.500000000000004\n",
      "45.099999999999994\n"
     ]
    }
   ],
   "source": [
    "Q1 = health_care_df['bmi'].quantile(0.25)\n",
    "Q3 = health_care_df['bmi'].quantile(0.75)\n",
    "IQR = Q3 - Q1\n",
    "l = Q1 - 1.5 * IQR\n",
    "u = Q3 + 1.5 * IQR\n",
    "print(l)\n",
    "print(u)\n",
    "outliers = (health_care_df['bmi']<l) |(health_care_df['bmi']>u)\n",
    "health_care_df['bmi'] = np.where(outliers, health_care_df['bmi'].median(), health_care_df['bmi'])"
   ]
  },
  {
   "cell_type": "code",
   "execution_count": 3812,
   "metadata": {},
   "outputs": [
    {
     "data": {
      "text/plain": [
       "count    5110.000000\n",
       "mean       28.161448\n",
       "std         6.242514\n",
       "min        12.000000\n",
       "25%        24.100000\n",
       "50%        28.100000\n",
       "75%        31.800000\n",
       "max        45.000000\n",
       "Name: bmi, dtype: float64"
      ]
     },
     "execution_count": 3812,
     "metadata": {},
     "output_type": "execute_result"
    }
   ],
   "source": [
    "health_care_df['bmi'].describe()"
   ]
  },
  {
   "cell_type": "code",
   "execution_count": 3813,
   "metadata": {},
   "outputs": [
    {
     "data": {
      "image/png": "[encoded data removed]",
      "text/plain": [
       "<Figure size 640x480 with 1 Axes>"
      ]
     },
     "metadata": {},
     "output_type": "display_data"
    }
   ],
   "source": [
    "sns.histplot(health_care_df['bmi'], bins=30, kde=True, color='skyblue')\n",
    "plt.title(\"BMI Distribution\")\n",
    "plt.xlabel(\"BMI\")\n",
    "plt.ylabel(\"Count\")\n",
    "plt.show()\n"
   ]
  },
  {
   "cell_type": "code",
   "execution_count": 3814,
   "metadata": {},
   "outputs": [
    {
     "data": {
      "text/plain": [
       "id                     0\n",
       "gender                 0\n",
       "age                    0\n",
       "hypertension           0\n",
       "heart_disease          0\n",
       "ever_married           0\n",
       "work_type              0\n",
       "Residence_type         0\n",
       "avg_glucose_level      0\n",
       "bmi                    0\n",
       "smoking_status       153\n",
       "stroke                 0\n",
       "dtype: int64"
      ]
     },
     "execution_count": 3814,
     "metadata": {},
     "output_type": "execute_result"
    }
   ],
   "source": [
    "health_care_df.isnull().sum()"
   ]
  },
  {
   "cell_type": "code",
   "execution_count": 3815,
   "metadata": {},
   "outputs": [
    {
     "data": {
      "text/plain": [
       "smoking_status\n",
       "never smoked       1835\n",
       "Unknown            1492\n",
       "formerly smoked     864\n",
       "smokes              766\n",
       "Name: count, dtype: int64"
      ]
     },
     "execution_count": 3815,
     "metadata": {},
     "output_type": "execute_result"
    }
   ],
   "source": [
    "health_care_df['smoking_status'].value_counts()"
   ]
  },
  {
   "cell_type": "code",
   "execution_count": 3816,
   "metadata": {},
   "outputs": [],
   "source": [
    "health_care_df.loc[health_care_df['age'] < 16, 'smoking_status'] = \"never smoked\""
   ]
  },
  {
   "cell_type": "code",
   "execution_count": 3817,
   "metadata": {},
   "outputs": [
    {
     "data": {
      "text/plain": [
       "smoking_status\n",
       "never smoked       2455\n",
       "Unknown             894\n",
       "formerly smoked     845\n",
       "smokes              763\n",
       "Name: count, dtype: int64"
      ]
     },
     "execution_count": 3817,
     "metadata": {},
     "output_type": "execute_result"
    }
   ],
   "source": [
    "health_care_df['smoking_status'].value_counts()"
   ]
  },
  {
   "cell_type": "code",
   "execution_count": 3818,
   "metadata": {},
   "outputs": [],
   "source": [
    "health_care_df['smoking_status']=health_care_df['smoking_status'].fillna(\"Unknown\")"
   ]
  },
  {
   "cell_type": "code",
   "execution_count": 3819,
   "metadata": {},
   "outputs": [
    {
     "data": {
      "text/plain": [
       "smoking_status\n",
       "never smoked       2455\n",
       "Unknown            1047\n",
       "formerly smoked     845\n",
       "smokes              763\n",
       "Name: count, dtype: int64"
      ]
     },
     "execution_count": 3819,
     "metadata": {},
     "output_type": "execute_result"
    }
   ],
   "source": [
    "health_care_df['smoking_status'].value_counts()"
   ]
  },
  {
   "cell_type": "code",
   "execution_count": 3820,
   "metadata": {},
   "outputs": [
    {
     "data": {
      "image/png": "[encoded data removed]",
      "text/plain": [
       "<Figure size 600x600 with 1 Axes>"
      ]
     },
     "metadata": {},
     "output_type": "display_data"
    }
   ],
   "source": [
    "health_care_df['smoking_status'].value_counts().plot.pie(\n",
    "    autopct='%1.1f%%', colors=[\"#FF9999\",\"#66B3FF\",\"#99FF99\",\"#FFD700\"], \n",
    "    startangle=90, figsize=(6,6))\n",
    "plt.title(\"Smoking Status Distribution\")\n",
    "plt.ylabel(\"\")  # Remove y-label for cleaner look\n",
    "plt.show()\n"
   ]
  },
  {
   "cell_type": "code",
   "execution_count": 3821,
   "metadata": {},
   "outputs": [
    {
     "data": {
      "text/plain": [
       "id                   0\n",
       "gender               0\n",
       "age                  0\n",
       "hypertension         0\n",
       "heart_disease        0\n",
       "ever_married         0\n",
       "work_type            0\n",
       "Residence_type       0\n",
       "avg_glucose_level    0\n",
       "bmi                  0\n",
       "smoking_status       0\n",
       "stroke               0\n",
       "dtype: int64"
      ]
     },
     "execution_count": 3821,
     "metadata": {},
     "output_type": "execute_result"
    }
   ],
   "source": [
    "health_care_df.isnull().sum()"
   ]
  },
  {
   "cell_type": "markdown",
   "metadata": {},
   "source": [
    "# Feature Engineering"
   ]
  },
  {
   "cell_type": "code",
   "execution_count": 3822,
   "metadata": {},
   "outputs": [],
   "source": [
    "def classify_age(age):\n",
    "    if age < 40:\n",
    "        return  \"Young\"\n",
    "    elif age < 60:\n",
    "        return  \"Middle-aged\"\n",
    "    else:\n",
    "        return  \"Elderly\"\n",
    "\n",
    "health_care_df['age_category'] = health_care_df['age'].apply(classify_age)\n"
   ]
  },
  {
   "cell_type": "code",
   "execution_count": 3823,
   "metadata": {},
   "outputs": [
    {
     "data": {
      "image/png": "[encoded data removed]",
      "text/plain": [
       "<Figure size 600x600 with 1 Axes>"
      ]
     },
     "metadata": {},
     "output_type": "display_data"
    }
   ],
   "source": [
    "plt.figure(figsize=(6, 6))\n",
    "colors = [\"#FF9999\", \"#66B3FF\", \"#99FF99\"]\n",
    "health_care_df[\"age_category\"].value_counts().plot.pie(\n",
    "    autopct='%1.1f%%', colors=colors, startangle=90\n",
    ")\n",
    "plt.title(\"Age Category Distribution\")\n",
    "plt.ylabel(\"\")  # Remove y-label for a cleaner look\n",
    "plt.show()\n",
    "#\"#FF9999\",\"#66B3FF\",\"#99FF99\",\"#FFD700\""
   ]
  },
  {
   "cell_type": "code",
   "execution_count": 3824,
   "metadata": {},
   "outputs": [],
   "source": [
    "def classify_bmi(bmi):\n",
    "    if bmi < 18.5:\n",
    "        return \"Underweight\"\n",
    "    elif bmi < 25:\n",
    "        return \" Normal Weight\"\n",
    "    elif bmi < 30:\n",
    "        return  \"Overweight\"\n",
    "    else:\n",
    "        return \"Obese\" \n",
    "\n",
    "health_care_df['bmi_category'] = health_care_df['bmi'].apply(classify_bmi)\n"
   ]
  },
  {
   "cell_type": "code",
   "execution_count": 3825,
   "metadata": {},
   "outputs": [
    {
     "data": {
      "image/png": "[encoded data removed]",
      "text/plain": [
       "<Figure size 800x500 with 1 Axes>"
      ]
     },
     "metadata": {},
     "output_type": "display_data"
    }
   ],
   "source": [
    "plt.figure(figsize=(8, 5))\n",
    "sns.barplot(\n",
    "    x=health_care_df[\"bmi_category\"].value_counts().values, \n",
    "    y=health_care_df[\"bmi_category\"].value_counts().index, \n",
    "    hue=health_care_df[\"bmi_category\"].value_counts().index, \n",
    "     \n",
    "    palette=\"coolwarm\"\n",
    ")\n",
    "plt.xlabel(\"Count\")\n",
    "plt.ylabel(\"BMI Category\")\n",
    "plt.title(\"BMI Categories Distribution\")\n",
    "plt.grid(axis='x', linestyle='--', alpha=0.7)\n",
    "plt.show()\n"
   ]
  },
  {
   "cell_type": "code",
   "execution_count": 3826,
   "metadata": {},
   "outputs": [],
   "source": [
    "# Define a function to categorize glucose levels\n",
    "def categorize_glucose(value):\n",
    "    if value < 70:\n",
    "        return  \"Low\"\n",
    "    elif 70 <= value <= 99:\n",
    "        return \"Normal\"\n",
    "    elif 100 <= value <= 125:\n",
    "        return  \"Prediabetes\"\n",
    "    elif 126 <= value <= 199:\n",
    "        return \"Diabetes\"\n",
    "    else:\n",
    "        return \"Severe Diabetes\"\n",
    "\n",
    "# Apply the function to create a new categorical column\n",
    "health_care_df[\"glucose_category\"] = health_care_df[\"avg_glucose_level\"].apply(categorize_glucose)\n",
    "\n",
    "\n"
   ]
  },
  {
   "cell_type": "code",
   "execution_count": 3827,
   "metadata": {},
   "outputs": [
    {
     "data": {
      "image/png": "[encoded data removed]",
      "text/plain": [
       "<Figure size 800x500 with 1 Axes>"
      ]
     },
     "metadata": {},
     "output_type": "display_data"
    }
   ],
   "source": [
    "import seaborn as sns\n",
    "import matplotlib.pyplot as plt\n",
    "\n",
    "# Define the correct order of categories\n",
    "category_order = [\"Low\", \"Normal\", \"Prediabetes\", \"Diabetes\", \"Severe Diabetes\"]\n",
    "\n",
    "# Count occurrences of each glucose category\n",
    "category_counts = health_care_df[\"glucose_category\"].value_counts()\n",
    "\n",
    "# Convert to DataFrame for proper plotting\n",
    "category_df = category_counts.reset_index()\n",
    "category_df.columns = [\"glucose_category\", \"count\"]\n",
    "\n",
    "# Plot a bar chart with predefined order\n",
    "plt.figure(figsize=(8, 5))\n",
    "sns.barplot(data=category_df, x=\"glucose_category\", y=\"count\", hue=\"glucose_category\", palette=\"coolwarm\", order=category_order, legend=False)\n",
    "\n",
    "# Add labels and title\n",
    "plt.xlabel(\"Glucose Level Category\")\n",
    "plt.ylabel(\"Frequency\")\n",
    "plt.title(\"Distribution of Glucose Level Categories\")\n",
    "plt.xticks(rotation=30)\n",
    "plt.grid(axis='y', linestyle='--', alpha=0.7)\n",
    "\n",
    "# Show the plot\n",
    "plt.show()\n"
   ]
  },
  {
   "cell_type": "markdown",
   "metadata": {},
   "source": [
    "# Encoding"
   ]
  },
  {
   "cell_type": "code",
   "execution_count": 3828,
   "metadata": {},
   "outputs": [
    {
     "name": "stdout",
     "output_type": "stream",
     "text": [
      "<class 'pandas.core.frame.DataFrame'>\n",
      "RangeIndex: 5110 entries, 0 to 5109\n",
      "Data columns (total 15 columns):\n",
      " #   Column             Non-Null Count  Dtype  \n",
      "---  ------             --------------  -----  \n",
      " 0   id                 5110 non-null   int64  \n",
      " 1   gender             5110 non-null   object \n",
      " 2   age                5110 non-null   float64\n",
      " 3   hypertension       5110 non-null   int64  \n",
      " 4   heart_disease      5110 non-null   int64  \n",
      " 5   ever_married       5110 non-null   object \n",
      " 6   work_type          5110 non-null   object \n",
      " 7   Residence_type     5110 non-null   object \n",
      " 8   avg_glucose_level  5110 non-null   float64\n",
      " 9   bmi                5110 non-null   float64\n",
      " 10  smoking_status     5110 non-null   object \n",
      " 11  stroke             5110 non-null   int64  \n",
      " 12  age_category       5110 non-null   object \n",
      " 13  bmi_category       5110 non-null   object \n",
      " 14  glucose_category   5110 non-null   object \n",
      "dtypes: float64(3), int64(4), object(8)\n",
      "memory usage: 599.0+ KB\n"
     ]
    }
   ],
   "source": [
    "health_care_df.info()"
   ]
  },
  {
   "cell_type": "code",
   "execution_count": 3829,
   "metadata": {},
   "outputs": [
    {
     "data": {
      "text/plain": [
       "id                     int64\n",
       "gender                object\n",
       "age                  float64\n",
       "hypertension           int64\n",
       "heart_disease          int64\n",
       "ever_married          object\n",
       "work_type             object\n",
       "Residence_type        object\n",
       "avg_glucose_level    float64\n",
       "bmi                  float64\n",
       "smoking_status        object\n",
       "stroke                 int64\n",
       "age_category          object\n",
       "bmi_category          object\n",
       "glucose_category      object\n",
       "dtype: object"
      ]
     },
     "execution_count": 3829,
     "metadata": {},
     "output_type": "execute_result"
    }
   ],
   "source": [
    "health_care_df.dtypes"
   ]
  },
  {
   "cell_type": "code",
   "execution_count": 3830,
   "metadata": {},
   "outputs": [
    {
     "data": {
      "text/plain": [
       "array(['Male', 'Female', 'Other'], dtype=object)"
      ]
     },
     "execution_count": 3830,
     "metadata": {},
     "output_type": "execute_result"
    }
   ],
   "source": [
    "health_care_df['gender'].unique()"
   ]
  },
  {
   "cell_type": "code",
   "execution_count": 3831,
   "metadata": {},
   "outputs": [],
   "source": [
    "map_gender = {'Male' : 0b00 ,'Female': 0b01 ,'Other': 0b10}\n",
    "health_care_df['gender'] = health_care_df['gender'].map(map_gender)"
   ]
  },
  {
   "cell_type": "code",
   "execution_count": 3832,
   "metadata": {},
   "outputs": [
    {
     "data": {
      "text/plain": [
       "array(['Private', 'Self-employed', 'Govt_job', 'children', 'Never_worked'],\n",
       "      dtype=object)"
      ]
     },
     "execution_count": 3832,
     "metadata": {},
     "output_type": "execute_result"
    }
   ],
   "source": [
    "health_care_df['work_type'].unique()"
   ]
  },
  {
   "cell_type": "code",
   "execution_count": 3833,
   "metadata": {},
   "outputs": [],
   "source": [
    "map_work_type = {'Private' : 0, 'Self-employed' : 1 , 'Govt_job' : 2 , 'children' : 3 , 'Never_worked' : 4}\n",
    "health_care_df['work_type'] = health_care_df['work_type'].map(map_work_type)"
   ]
  },
  {
   "cell_type": "code",
   "execution_count": 3834,
   "metadata": {},
   "outputs": [
    {
     "data": {
      "text/plain": [
       "array(['Yes', 'No'], dtype=object)"
      ]
     },
     "execution_count": 3834,
     "metadata": {},
     "output_type": "execute_result"
    }
   ],
   "source": [
    "health_care_df['ever_married'].unique()"
   ]
  },
  {
   "cell_type": "code",
   "execution_count": 3835,
   "metadata": {},
   "outputs": [],
   "source": [
    "map_ever_married = {'Yes': 1,'No' : 0 }\n",
    "health_care_df['ever_married'] =health_care_df['ever_married'].map(map_ever_married)"
   ]
  },
  {
   "cell_type": "code",
   "execution_count": 3836,
   "metadata": {},
   "outputs": [
    {
     "data": {
      "text/plain": [
       "array(['Urban', 'Rural'], dtype=object)"
      ]
     },
     "execution_count": 3836,
     "metadata": {},
     "output_type": "execute_result"
    }
   ],
   "source": [
    "health_care_df['Residence_type'].unique()"
   ]
  },
  {
   "cell_type": "code",
   "execution_count": 3837,
   "metadata": {},
   "outputs": [],
   "source": [
    "map_residence_type = {'Urban' : 0 , 'Rural' : 1}\n",
    "health_care_df['Residence_type'] =health_care_df['Residence_type'].map(map_residence_type)"
   ]
  },
  {
   "cell_type": "code",
   "execution_count": 3838,
   "metadata": {},
   "outputs": [
    {
     "data": {
      "text/plain": [
       "array(['formerly smoked', 'never smoked', 'smokes', 'Unknown'],\n",
       "      dtype=object)"
      ]
     },
     "execution_count": 3838,
     "metadata": {},
     "output_type": "execute_result"
    }
   ],
   "source": [
    "health_care_df['smoking_status'].unique()"
   ]
  },
  {
   "cell_type": "code",
   "execution_count": 3839,
   "metadata": {},
   "outputs": [],
   "source": [
    "map_smoking_status = {'formerly smoked' : 0 , 'never smoked' : 1 , 'smokes' : 2,'Unknown':-1}\n",
    "health_care_df['smoking_status'] =health_care_df['smoking_status'].map(map_smoking_status)"
   ]
  },
  {
   "cell_type": "code",
   "execution_count": 3840,
   "metadata": {},
   "outputs": [
    {
     "data": {
      "text/plain": [
       "array(['Elderly', 'Middle-aged', 'Young'], dtype=object)"
      ]
     },
     "execution_count": 3840,
     "metadata": {},
     "output_type": "execute_result"
    }
   ],
   "source": [
    "health_care_df['age_category'].unique()"
   ]
  },
  {
   "cell_type": "code",
   "execution_count": 3841,
   "metadata": {},
   "outputs": [],
   "source": [
    "map_age_category={\"Young\":0,'Middle-aged':1,'Elderly':2}\n",
    "health_care_df['age_category']=health_care_df['age_category'].map(map_age_category)"
   ]
  },
  {
   "cell_type": "code",
   "execution_count": 3842,
   "metadata": {},
   "outputs": [
    {
     "data": {
      "text/plain": [
       "array(['Severe Diabetes', 'Prediabetes', 'Diabetes', 'Normal', 'Low'],\n",
       "      dtype=object)"
      ]
     },
     "execution_count": 3842,
     "metadata": {},
     "output_type": "execute_result"
    }
   ],
   "source": [
    "health_care_df['glucose_category'].unique()"
   ]
  },
  {
   "cell_type": "code",
   "execution_count": 3843,
   "metadata": {},
   "outputs": [],
   "source": [
    "map_glucose_category={'Low':0,'Normal':1,'Diabetes':2, 'Prediabetes':3,'Severe Diabetes':4}\n",
    "health_care_df['glucose_category']=health_care_df['glucose_category'].map(map_glucose_category)"
   ]
  },
  {
   "cell_type": "code",
   "execution_count": 3844,
   "metadata": {},
   "outputs": [
    {
     "data": {
      "text/plain": [
       "array(['Obese', 'Overweight', ' Normal Weight', 'Underweight'],\n",
       "      dtype=object)"
      ]
     },
     "execution_count": 3844,
     "metadata": {},
     "output_type": "execute_result"
    }
   ],
   "source": [
    "health_care_df['bmi_category'].unique()"
   ]
  },
  {
   "cell_type": "code",
   "execution_count": 3845,
   "metadata": {},
   "outputs": [],
   "source": [
    "map_bmi_category={'Obese':3, 'Overweight':2, ' Normal Weight':1, 'Underweight':0}\n",
    "health_care_df['bmi_category']=health_care_df['bmi_category'].map(map_bmi_category)"
   ]
  },
  {
   "cell_type": "code",
   "execution_count": null,
   "metadata": {},
   "outputs": [],
   "source": []
  },
  {
   "cell_type": "code",
   "execution_count": 3846,
   "metadata": {},
   "outputs": [
    {
     "data": {
      "text/plain": [
       "id                     int64\n",
       "gender                 int64\n",
       "age                  float64\n",
       "hypertension           int64\n",
       "heart_disease          int64\n",
       "ever_married           int64\n",
       "work_type              int64\n",
       "Residence_type         int64\n",
       "avg_glucose_level    float64\n",
       "bmi                  float64\n",
       "smoking_status         int64\n",
       "stroke                 int64\n",
       "age_category           int64\n",
       "bmi_category           int64\n",
       "glucose_category       int64\n",
       "dtype: object"
      ]
     },
     "execution_count": 3846,
     "metadata": {},
     "output_type": "execute_result"
    }
   ],
   "source": [
    "health_care_df.dtypes"
   ]
  },
  {
   "cell_type": "code",
   "execution_count": 3847,
   "metadata": {},
   "outputs": [
    {
     "data": {
      "text/html": [
       "<div>\n",
       "<style scoped>\n",
       "    .dataframe tbody tr th:only-of-type {\n",
       "        vertical-align: middle;\n",
       "    }\n",
       "\n",
       "    .dataframe tbody tr th {\n",
       "        vertical-align: top;\n",
       "    }\n",
       "\n",
       "    .dataframe thead th {\n",
       "        text-align: right;\n",
       "    }\n",
       "</style>\n",
       "<table border=\"1\" class=\"dataframe\">\n",
       "  <thead>\n",
       "    <tr style=\"text-align: right;\">\n",
       "      <th></th>\n",
       "      <th>id</th>\n",
       "      <th>gender</th>\n",
       "      <th>age</th>\n",
       "      <th>hypertension</th>\n",
       "      <th>heart_disease</th>\n",
       "      <th>ever_married</th>\n",
       "      <th>work_type</th>\n",
       "      <th>Residence_type</th>\n",
       "      <th>avg_glucose_level</th>\n",
       "      <th>bmi</th>\n",
       "      <th>smoking_status</th>\n",
       "      <th>stroke</th>\n",
       "      <th>age_category</th>\n",
       "      <th>bmi_category</th>\n",
       "      <th>glucose_category</th>\n",
       "    </tr>\n",
       "  </thead>\n",
       "  <tbody>\n",
       "    <tr>\n",
       "      <th>count</th>\n",
       "      <td>5110.000000</td>\n",
       "      <td>5110.000000</td>\n",
       "      <td>5110.000000</td>\n",
       "      <td>5110.000000</td>\n",
       "      <td>5110.000000</td>\n",
       "      <td>5110.000000</td>\n",
       "      <td>5110.000000</td>\n",
       "      <td>5110.000000</td>\n",
       "      <td>5110.000000</td>\n",
       "      <td>5110.000000</td>\n",
       "      <td>5110.000000</td>\n",
       "      <td>5110.000000</td>\n",
       "      <td>5110.000000</td>\n",
       "      <td>5110.000000</td>\n",
       "      <td>5110.000000</td>\n",
       "    </tr>\n",
       "    <tr>\n",
       "      <th>mean</th>\n",
       "      <td>36517.829354</td>\n",
       "      <td>0.586301</td>\n",
       "      <td>43.230326</td>\n",
       "      <td>0.097456</td>\n",
       "      <td>0.054012</td>\n",
       "      <td>0.656164</td>\n",
       "      <td>0.811546</td>\n",
       "      <td>0.491977</td>\n",
       "      <td>105.392873</td>\n",
       "      <td>28.161448</td>\n",
       "      <td>0.574168</td>\n",
       "      <td>0.048728</td>\n",
       "      <td>0.851468</td>\n",
       "      <td>1.975147</td>\n",
       "      <td>1.616047</td>\n",
       "    </tr>\n",
       "    <tr>\n",
       "      <th>std</th>\n",
       "      <td>21161.721625</td>\n",
       "      <td>0.492941</td>\n",
       "      <td>22.014411</td>\n",
       "      <td>0.296607</td>\n",
       "      <td>0.226063</td>\n",
       "      <td>0.475034</td>\n",
       "      <td>1.110240</td>\n",
       "      <td>0.499985</td>\n",
       "      <td>44.270397</td>\n",
       "      <td>6.242514</td>\n",
       "      <td>0.976269</td>\n",
       "      <td>0.215320</td>\n",
       "      <td>0.797611</td>\n",
       "      <td>0.898863</td>\n",
       "      <td>1.211826</td>\n",
       "    </tr>\n",
       "    <tr>\n",
       "      <th>min</th>\n",
       "      <td>67.000000</td>\n",
       "      <td>0.000000</td>\n",
       "      <td>0.000000</td>\n",
       "      <td>0.000000</td>\n",
       "      <td>0.000000</td>\n",
       "      <td>0.000000</td>\n",
       "      <td>0.000000</td>\n",
       "      <td>0.000000</td>\n",
       "      <td>55.120000</td>\n",
       "      <td>12.000000</td>\n",
       "      <td>-1.000000</td>\n",
       "      <td>0.000000</td>\n",
       "      <td>0.000000</td>\n",
       "      <td>0.000000</td>\n",
       "      <td>0.000000</td>\n",
       "    </tr>\n",
       "    <tr>\n",
       "      <th>25%</th>\n",
       "      <td>17741.250000</td>\n",
       "      <td>0.000000</td>\n",
       "      <td>26.000000</td>\n",
       "      <td>0.000000</td>\n",
       "      <td>0.000000</td>\n",
       "      <td>0.000000</td>\n",
       "      <td>0.000000</td>\n",
       "      <td>0.000000</td>\n",
       "      <td>77.930000</td>\n",
       "      <td>24.100000</td>\n",
       "      <td>0.000000</td>\n",
       "      <td>0.000000</td>\n",
       "      <td>0.000000</td>\n",
       "      <td>1.000000</td>\n",
       "      <td>1.000000</td>\n",
       "    </tr>\n",
       "    <tr>\n",
       "      <th>50%</th>\n",
       "      <td>36932.000000</td>\n",
       "      <td>1.000000</td>\n",
       "      <td>43.230326</td>\n",
       "      <td>0.000000</td>\n",
       "      <td>0.000000</td>\n",
       "      <td>1.000000</td>\n",
       "      <td>0.000000</td>\n",
       "      <td>0.000000</td>\n",
       "      <td>91.820000</td>\n",
       "      <td>28.100000</td>\n",
       "      <td>1.000000</td>\n",
       "      <td>0.000000</td>\n",
       "      <td>1.000000</td>\n",
       "      <td>2.000000</td>\n",
       "      <td>1.000000</td>\n",
       "    </tr>\n",
       "    <tr>\n",
       "      <th>75%</th>\n",
       "      <td>54682.000000</td>\n",
       "      <td>1.000000</td>\n",
       "      <td>60.000000</td>\n",
       "      <td>0.000000</td>\n",
       "      <td>0.000000</td>\n",
       "      <td>1.000000</td>\n",
       "      <td>2.000000</td>\n",
       "      <td>1.000000</td>\n",
       "      <td>112.325000</td>\n",
       "      <td>31.800000</td>\n",
       "      <td>1.000000</td>\n",
       "      <td>0.000000</td>\n",
       "      <td>2.000000</td>\n",
       "      <td>3.000000</td>\n",
       "      <td>3.000000</td>\n",
       "    </tr>\n",
       "    <tr>\n",
       "      <th>max</th>\n",
       "      <td>72940.000000</td>\n",
       "      <td>2.000000</td>\n",
       "      <td>82.000000</td>\n",
       "      <td>1.000000</td>\n",
       "      <td>1.000000</td>\n",
       "      <td>1.000000</td>\n",
       "      <td>4.000000</td>\n",
       "      <td>1.000000</td>\n",
       "      <td>271.740000</td>\n",
       "      <td>45.000000</td>\n",
       "      <td>2.000000</td>\n",
       "      <td>1.000000</td>\n",
       "      <td>2.000000</td>\n",
       "      <td>3.000000</td>\n",
       "      <td>4.000000</td>\n",
       "    </tr>\n",
       "  </tbody>\n",
       "</table>\n",
       "</div>"
      ],
      "text/plain": [
       "                 id       gender          age  hypertension  heart_disease  \\\n",
       "count   5110.000000  5110.000000  5110.000000   5110.000000    5110.000000   \n",
       "mean   36517.829354     0.586301    43.230326      0.097456       0.054012   \n",
       "std    21161.721625     0.492941    22.014411      0.296607       0.226063   \n",
       "min       67.000000     0.000000     0.000000      0.000000       0.000000   \n",
       "25%    17741.250000     0.000000    26.000000      0.000000       0.000000   \n",
       "50%    36932.000000     1.000000    43.230326      0.000000       0.000000   \n",
       "75%    54682.000000     1.000000    60.000000      0.000000       0.000000   \n",
       "max    72940.000000     2.000000    82.000000      1.000000       1.000000   \n",
       "\n",
       "       ever_married    work_type  Residence_type  avg_glucose_level  \\\n",
       "count   5110.000000  5110.000000     5110.000000        5110.000000   \n",
       "mean       0.656164     0.811546        0.491977         105.392873   \n",
       "std        0.475034     1.110240        0.499985          44.270397   \n",
       "min        0.000000     0.000000        0.000000          55.120000   \n",
       "25%        0.000000     0.000000        0.000000          77.930000   \n",
       "50%        1.000000     0.000000        0.000000          91.820000   \n",
       "75%        1.000000     2.000000        1.000000         112.325000   \n",
       "max        1.000000     4.000000        1.000000         271.740000   \n",
       "\n",
       "               bmi  smoking_status       stroke  age_category  bmi_category  \\\n",
       "count  5110.000000     5110.000000  5110.000000   5110.000000   5110.000000   \n",
       "mean     28.161448        0.574168     0.048728      0.851468      1.975147   \n",
       "std       6.242514        0.976269     0.215320      0.797611      0.898863   \n",
       "min      12.000000       -1.000000     0.000000      0.000000      0.000000   \n",
       "25%      24.100000        0.000000     0.000000      0.000000      1.000000   \n",
       "50%      28.100000        1.000000     0.000000      1.000000      2.000000   \n",
       "75%      31.800000        1.000000     0.000000      2.000000      3.000000   \n",
       "max      45.000000        2.000000     1.000000      2.000000      3.000000   \n",
       "\n",
       "       glucose_category  \n",
       "count       5110.000000  \n",
       "mean           1.616047  \n",
       "std            1.211826  \n",
       "min            0.000000  \n",
       "25%            1.000000  \n",
       "50%            1.000000  \n",
       "75%            3.000000  \n",
       "max            4.000000  "
      ]
     },
     "execution_count": 3847,
     "metadata": {},
     "output_type": "execute_result"
    }
   ],
   "source": [
    "health_care_df.describe()"
   ]
  },
  {
   "cell_type": "code",
   "execution_count": 3848,
   "metadata": {},
   "outputs": [
    {
     "data": {
      "image/png": "[encoded data removed]",
      "text/plain": [
       "<Figure size 800x600 with 2 Axes>"
      ]
     },
     "metadata": {},
     "output_type": "display_data"
    }
   ],
   "source": [
    "\n",
    "numeric_cols = ['age', 'hypertension', 'heart_disease', 'avg_glucose_level', 'bmi', 'stroke']\n",
    "corr_matrix = health_care_df[numeric_cols].corr()\n",
    "\n",
    "plt.figure(figsize=(8,6))\n",
    "sns.heatmap(corr_matrix, annot=True, cmap=\"coolwarm\", fmt=\".2f\", linewidths=0.5)\n",
    "plt.title(\"Correlation Heatmap\")\n",
    "plt.show()\n"
   ]
  },
  {
   "cell_type": "markdown",
   "metadata": {},
   "source": [
    "# Normalization"
   ]
  },
  {
   "cell_type": "code",
   "execution_count": 3849,
   "metadata": {},
   "outputs": [],
   "source": [
    "scaler = MinMaxScaler()\n",
    "health_care_df[['age', 'avg_glucose_level', 'bmi']] = scaler.fit_transform(health_care_df[['age', 'avg_glucose_level', 'bmi']])"
   ]
  },
  {
   "cell_type": "markdown",
   "metadata": {},
   "source": [
    "# Age , Avg_glucose_level , Bmi is normalized from 0 -> 1"
   ]
  },
  {
   "cell_type": "code",
   "execution_count": 3850,
   "metadata": {},
   "outputs": [
    {
     "data": {
      "text/html": [
       "<div>\n",
       "<style scoped>\n",
       "    .dataframe tbody tr th:only-of-type {\n",
       "        vertical-align: middle;\n",
       "    }\n",
       "\n",
       "    .dataframe tbody tr th {\n",
       "        vertical-align: top;\n",
       "    }\n",
       "\n",
       "    .dataframe thead th {\n",
       "        text-align: right;\n",
       "    }\n",
       "</style>\n",
       "<table border=\"1\" class=\"dataframe\">\n",
       "  <thead>\n",
       "    <tr style=\"text-align: right;\">\n",
       "      <th></th>\n",
       "      <th>id</th>\n",
       "      <th>gender</th>\n",
       "      <th>age</th>\n",
       "      <th>hypertension</th>\n",
       "      <th>heart_disease</th>\n",
       "      <th>ever_married</th>\n",
       "      <th>work_type</th>\n",
       "      <th>Residence_type</th>\n",
       "      <th>avg_glucose_level</th>\n",
       "      <th>bmi</th>\n",
       "      <th>smoking_status</th>\n",
       "      <th>stroke</th>\n",
       "      <th>age_category</th>\n",
       "      <th>bmi_category</th>\n",
       "      <th>glucose_category</th>\n",
       "    </tr>\n",
       "  </thead>\n",
       "  <tbody>\n",
       "    <tr>\n",
       "      <th>count</th>\n",
       "      <td>5110.000000</td>\n",
       "      <td>5110.000000</td>\n",
       "      <td>5110.000000</td>\n",
       "      <td>5110.000000</td>\n",
       "      <td>5110.000000</td>\n",
       "      <td>5110.000000</td>\n",
       "      <td>5110.000000</td>\n",
       "      <td>5110.000000</td>\n",
       "      <td>5110.000000</td>\n",
       "      <td>5110.000000</td>\n",
       "      <td>5110.000000</td>\n",
       "      <td>5110.000000</td>\n",
       "      <td>5110.000000</td>\n",
       "      <td>5110.000000</td>\n",
       "      <td>5110.000000</td>\n",
       "    </tr>\n",
       "    <tr>\n",
       "      <th>mean</th>\n",
       "      <td>36517.829354</td>\n",
       "      <td>0.586301</td>\n",
       "      <td>0.527199</td>\n",
       "      <td>0.097456</td>\n",
       "      <td>0.054012</td>\n",
       "      <td>0.656164</td>\n",
       "      <td>0.811546</td>\n",
       "      <td>0.491977</td>\n",
       "      <td>0.232079</td>\n",
       "      <td>0.489741</td>\n",
       "      <td>0.574168</td>\n",
       "      <td>0.048728</td>\n",
       "      <td>0.851468</td>\n",
       "      <td>1.975147</td>\n",
       "      <td>1.616047</td>\n",
       "    </tr>\n",
       "    <tr>\n",
       "      <th>std</th>\n",
       "      <td>21161.721625</td>\n",
       "      <td>0.492941</td>\n",
       "      <td>0.268468</td>\n",
       "      <td>0.296607</td>\n",
       "      <td>0.226063</td>\n",
       "      <td>0.475034</td>\n",
       "      <td>1.110240</td>\n",
       "      <td>0.499985</td>\n",
       "      <td>0.204369</td>\n",
       "      <td>0.189167</td>\n",
       "      <td>0.976269</td>\n",
       "      <td>0.215320</td>\n",
       "      <td>0.797611</td>\n",
       "      <td>0.898863</td>\n",
       "      <td>1.211826</td>\n",
       "    </tr>\n",
       "    <tr>\n",
       "      <th>min</th>\n",
       "      <td>67.000000</td>\n",
       "      <td>0.000000</td>\n",
       "      <td>0.000000</td>\n",
       "      <td>0.000000</td>\n",
       "      <td>0.000000</td>\n",
       "      <td>0.000000</td>\n",
       "      <td>0.000000</td>\n",
       "      <td>0.000000</td>\n",
       "      <td>0.000000</td>\n",
       "      <td>0.000000</td>\n",
       "      <td>-1.000000</td>\n",
       "      <td>0.000000</td>\n",
       "      <td>0.000000</td>\n",
       "      <td>0.000000</td>\n",
       "      <td>0.000000</td>\n",
       "    </tr>\n",
       "    <tr>\n",
       "      <th>25%</th>\n",
       "      <td>17741.250000</td>\n",
       "      <td>0.000000</td>\n",
       "      <td>0.317073</td>\n",
       "      <td>0.000000</td>\n",
       "      <td>0.000000</td>\n",
       "      <td>0.000000</td>\n",
       "      <td>0.000000</td>\n",
       "      <td>0.000000</td>\n",
       "      <td>0.105300</td>\n",
       "      <td>0.366667</td>\n",
       "      <td>0.000000</td>\n",
       "      <td>0.000000</td>\n",
       "      <td>0.000000</td>\n",
       "      <td>1.000000</td>\n",
       "      <td>1.000000</td>\n",
       "    </tr>\n",
       "    <tr>\n",
       "      <th>50%</th>\n",
       "      <td>36932.000000</td>\n",
       "      <td>1.000000</td>\n",
       "      <td>0.527199</td>\n",
       "      <td>0.000000</td>\n",
       "      <td>0.000000</td>\n",
       "      <td>1.000000</td>\n",
       "      <td>0.000000</td>\n",
       "      <td>0.000000</td>\n",
       "      <td>0.169421</td>\n",
       "      <td>0.487879</td>\n",
       "      <td>1.000000</td>\n",
       "      <td>0.000000</td>\n",
       "      <td>1.000000</td>\n",
       "      <td>2.000000</td>\n",
       "      <td>1.000000</td>\n",
       "    </tr>\n",
       "    <tr>\n",
       "      <th>75%</th>\n",
       "      <td>54682.000000</td>\n",
       "      <td>1.000000</td>\n",
       "      <td>0.731707</td>\n",
       "      <td>0.000000</td>\n",
       "      <td>0.000000</td>\n",
       "      <td>1.000000</td>\n",
       "      <td>2.000000</td>\n",
       "      <td>1.000000</td>\n",
       "      <td>0.264080</td>\n",
       "      <td>0.600000</td>\n",
       "      <td>1.000000</td>\n",
       "      <td>0.000000</td>\n",
       "      <td>2.000000</td>\n",
       "      <td>3.000000</td>\n",
       "      <td>3.000000</td>\n",
       "    </tr>\n",
       "    <tr>\n",
       "      <th>max</th>\n",
       "      <td>72940.000000</td>\n",
       "      <td>2.000000</td>\n",
       "      <td>1.000000</td>\n",
       "      <td>1.000000</td>\n",
       "      <td>1.000000</td>\n",
       "      <td>1.000000</td>\n",
       "      <td>4.000000</td>\n",
       "      <td>1.000000</td>\n",
       "      <td>1.000000</td>\n",
       "      <td>1.000000</td>\n",
       "      <td>2.000000</td>\n",
       "      <td>1.000000</td>\n",
       "      <td>2.000000</td>\n",
       "      <td>3.000000</td>\n",
       "      <td>4.000000</td>\n",
       "    </tr>\n",
       "  </tbody>\n",
       "</table>\n",
       "</div>"
      ],
      "text/plain": [
       "                 id       gender          age  hypertension  heart_disease  \\\n",
       "count   5110.000000  5110.000000  5110.000000   5110.000000    5110.000000   \n",
       "mean   36517.829354     0.586301     0.527199      0.097456       0.054012   \n",
       "std    21161.721625     0.492941     0.268468      0.296607       0.226063   \n",
       "min       67.000000     0.000000     0.000000      0.000000       0.000000   \n",
       "25%    17741.250000     0.000000     0.317073      0.000000       0.000000   \n",
       "50%    36932.000000     1.000000     0.527199      0.000000       0.000000   \n",
       "75%    54682.000000     1.000000     0.731707      0.000000       0.000000   \n",
       "max    72940.000000     2.000000     1.000000      1.000000       1.000000   \n",
       "\n",
       "       ever_married    work_type  Residence_type  avg_glucose_level  \\\n",
       "count   5110.000000  5110.000000     5110.000000        5110.000000   \n",
       "mean       0.656164     0.811546        0.491977           0.232079   \n",
       "std        0.475034     1.110240        0.499985           0.204369   \n",
       "min        0.000000     0.000000        0.000000           0.000000   \n",
       "25%        0.000000     0.000000        0.000000           0.105300   \n",
       "50%        1.000000     0.000000        0.000000           0.169421   \n",
       "75%        1.000000     2.000000        1.000000           0.264080   \n",
       "max        1.000000     4.000000        1.000000           1.000000   \n",
       "\n",
       "               bmi  smoking_status       stroke  age_category  bmi_category  \\\n",
       "count  5110.000000     5110.000000  5110.000000   5110.000000   5110.000000   \n",
       "mean      0.489741        0.574168     0.048728      0.851468      1.975147   \n",
       "std       0.189167        0.976269     0.215320      0.797611      0.898863   \n",
       "min       0.000000       -1.000000     0.000000      0.000000      0.000000   \n",
       "25%       0.366667        0.000000     0.000000      0.000000      1.000000   \n",
       "50%       0.487879        1.000000     0.000000      1.000000      2.000000   \n",
       "75%       0.600000        1.000000     0.000000      2.000000      3.000000   \n",
       "max       1.000000        2.000000     1.000000      2.000000      3.000000   \n",
       "\n",
       "       glucose_category  \n",
       "count       5110.000000  \n",
       "mean           1.616047  \n",
       "std            1.211826  \n",
       "min            0.000000  \n",
       "25%            1.000000  \n",
       "50%            1.000000  \n",
       "75%            3.000000  \n",
       "max            4.000000  "
      ]
     },
     "execution_count": 3850,
     "metadata": {},
     "output_type": "execute_result"
    }
   ],
   "source": [
    "health_care_df.describe()"
   ]
  },
  {
   "cell_type": "code",
   "execution_count": 3851,
   "metadata": {},
   "outputs": [],
   "source": [
    "health_care_df.to_csv(\"cleaned_data.csv\", index=False)"
   ]
  }
 ],
 "metadata": {
  "kernelspec": {
   "display_name": "Python 3",
   "language": "python",
   "name": "python3"
  },
  "language_info": {
   "codemirror_mode": {
    "name": "ipython",
    "version": 3
   },
   "file_extension": ".py",
   "mimetype": "text/x-python",
   "name": "python",
   "nbconvert_exporter": "python",
   "pygments_lexer": "ipython3",
   "version": "3.13.2"
  }
 },
 "nbformat": 4,
 "nbformat_minor": 2
}
