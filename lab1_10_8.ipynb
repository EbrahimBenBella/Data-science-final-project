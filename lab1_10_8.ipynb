{
  "nbformat": 4,
  "nbformat_minor": 0,
  "metadata": {
    "colab": {
      "provenance": [],
      "authorship_tag": "ABX9TyPTWji473D32DwELAMfE/0f",
      "include_colab_link": true
    },
    "kernelspec": {
      "name": "python3",
      "display_name": "Python 3"
    },
    "language_info": {
      "name": "python"
    }
  },
  "cells": [
    {
      "cell_type": "markdown",
      "metadata": {
        "id": "view-in-github",
        "colab_type": "text"
      },
      "source": [
        "<a href=\"https://colab.research.google.com/github/EbrahimBenBella/Data-science-final-project/blob/main/lab1_10_8.ipynb\" target=\"_parent\"><img src=\"https://colab.research.google.com/assets/colab-badge.svg\" alt=\"Open In Colab\"/></a>"
      ]
    },
    {
      "cell_type": "code",
      "source": [
        "!pip install torch torchvision --quiet\n",
        "\n",
        "import torch\n",
        "import torchvision\n",
        "import numpy as np\n",
        "\n",
        "print(\"PyTorch version:\", torch.__version__)"
      ],
      "metadata": {
        "colab": {
          "base_uri": "https://localhost:8080/"
        },
        "id": "J6LiEFx52XcY",
        "outputId": "1098cb43-99e0-4d49-d083-62edd13302de"
      },
      "execution_count": 2,
      "outputs": [
        {
          "output_type": "stream",
          "name": "stdout",
          "text": [
            "PyTorch version: 2.6.0+cu124\n"
          ]
        }
      ]
    },
    {
      "cell_type": "code",
      "source": [
        "# Create tensors from a Python list\n",
        "data = [[1, 2], [3, 4]]\n",
        "x_data = torch.tensor(data)\n",
        "print(\"Tensor from list:\\n\", x_data)"
      ],
      "metadata": {
        "colab": {
          "base_uri": "https://localhost:8080/"
        },
        "id": "YZoH8c2B2hbt",
        "outputId": "779a59dd-30a0-47c5-f250-ec26e71b4ac4"
      },
      "execution_count": 3,
      "outputs": [
        {
          "output_type": "stream",
          "name": "stdout",
          "text": [
            "Tensor from list:\n",
            " tensor([[1, 2],\n",
            "        [3, 4]])\n"
          ]
        }
      ]
    },
    {
      "cell_type": "code",
      "source": [
        "np_array = np.array(data)\n",
        "x_np = torch.from_numpy(np_array)\n",
        "print(\"\\nTensor from NumPy:\\n\", x_np)"
      ],
      "metadata": {
        "colab": {
          "base_uri": "https://localhost:8080/"
        },
        "id": "5N-D1qfq5eMC",
        "outputId": "d0dfbc97-4c56-42a1-dbaa-0335753a5a6f"
      },
      "execution_count": 4,
      "outputs": [
        {
          "output_type": "stream",
          "name": "stdout",
          "text": [
            "\n",
            "Tensor from NumPy:\n",
            " tensor([[1, 2],\n",
            "        [3, 4]])\n"
          ]
        }
      ]
    },
    {
      "cell_type": "code",
      "source": [
        "x_ones = torch.ones((2, 3))\n",
        "x_zeros = torch.zeros((2, 3))\n",
        "x_rand = torch.rand((2, 3))\n",
        "print(\"\\nOnes:\\n\", x_ones)\n",
        "print(\"\\nZeros:\\n\", x_zeros)\n",
        "print(\"\\nRandom:\\n\", x_rand)"
      ],
      "metadata": {
        "colab": {
          "base_uri": "https://localhost:8080/"
        },
        "id": "XId5pS695osQ",
        "outputId": "41bb4829-5e34-46cf-c52b-0829308bf66a"
      },
      "execution_count": 5,
      "outputs": [
        {
          "output_type": "stream",
          "name": "stdout",
          "text": [
            "\n",
            "Ones:\n",
            " tensor([[1., 1., 1.],\n",
            "        [1., 1., 1.]])\n",
            "\n",
            "Zeros:\n",
            " tensor([[0., 0., 0.],\n",
            "        [0., 0., 0.]])\n",
            "\n",
            "Random:\n",
            " tensor([[0.9723, 0.9195, 0.4114],\n",
            "        [0.7489, 0.3483, 0.3004]])\n"
          ]
        }
      ]
    },
    {
      "cell_type": "code",
      "source": [
        "print(\"\\n--- Tensor Operations ---\")\n",
        "x = torch.rand(2, 2)\n",
        "y = torch.rand(2, 2)\n",
        "\n",
        "print(\"X:\\n\", x)\n",
        "print(\"Y:\\n\", y)"
      ],
      "metadata": {
        "colab": {
          "base_uri": "https://localhost:8080/"
        },
        "id": "unAiP_LD5xAH",
        "outputId": "dac0c5f2-751e-4708-87b1-1ecbd1406c3b"
      },
      "execution_count": 6,
      "outputs": [
        {
          "output_type": "stream",
          "name": "stdout",
          "text": [
            "\n",
            "--- Tensor Operations ---\n",
            "X:\n",
            " tensor([[0.2291, 0.2673],\n",
            "        [0.3487, 0.4348]])\n",
            "Y:\n",
            " tensor([[0.6714, 0.1010],\n",
            "        [0.3861, 0.1133]])\n"
          ]
        }
      ]
    },
    {
      "cell_type": "code",
      "source": [
        "# Addition\n",
        "z = x + y\n",
        "print(\"\\nX + Y:\\n\", z)"
      ],
      "metadata": {
        "colab": {
          "base_uri": "https://localhost:8080/"
        },
        "id": "IRlGJiiQ64aL",
        "outputId": "c1d74b0b-6867-4d5c-f36d-096d8013c4f9"
      },
      "execution_count": 7,
      "outputs": [
        {
          "output_type": "stream",
          "name": "stdout",
          "text": [
            "\n",
            "X + Y:\n",
            " tensor([[0.9005, 0.3682],\n",
            "        [0.7348, 0.5481]])\n"
          ]
        }
      ]
    },
    {
      "cell_type": "code",
      "source": [
        "# Matrix multiplication\n",
        "z2 = torch.mm(x, y)\n",
        "print(\"\\nMatrix Multiplication X @ Y:\\n\", z2)"
      ],
      "metadata": {
        "id": "jyo-eLCe6-_q"
      },
      "execution_count": null,
      "outputs": []
    },
    {
      "cell_type": "code",
      "source": [
        "# Element-wise multiplication\n",
        "z3 = x * y\n",
        "print(\"\\nElement-wise Multiplication X * Y:\\n\", z3)"
      ],
      "metadata": {
        "id": "2S3ziMC87RI4"
      },
      "execution_count": null,
      "outputs": []
    },
    {
      "cell_type": "code",
      "source": [],
      "metadata": {
        "id": "HNtwv_Bv8CHs"
      },
      "execution_count": null,
      "outputs": []
    }
  ]
}